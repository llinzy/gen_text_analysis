{
 "cells": [
  {
   "cell_type": "code",
   "execution_count": 1,
   "metadata": {},
   "outputs": [],
   "source": [
    "import pandas as pd\n",
    "import itertools"
   ]
  },
  {
   "cell_type": "code",
   "execution_count": 2,
   "metadata": {},
   "outputs": [],
   "source": [
    "data=pd.read_csv('test_stripped.csv')"
   ]
  },
  {
   "cell_type": "code",
   "execution_count": 3,
   "metadata": {},
   "outputs": [],
   "source": [
    "groups=data[['skill_category', 'no_stopwords_stemmed']]"
   ]
  },
  {
   "cell_type": "code",
   "execution_count": 4,
   "metadata": {},
   "outputs": [],
   "source": [
    "d_group=groups.groupby('skill_category')['no_stopwords_stemmed'].apply(' '.join).reset_index()"
   ]
  },
  {
   "cell_type": "code",
   "execution_count": 5,
   "metadata": {},
   "outputs": [],
   "source": [
    "frequency_dict=[dict(pd.Series(i.split()).value_counts()) for i in d_group.no_stopwords_stemmed]"
   ]
  },
  {
   "cell_type": "code",
   "execution_count": 6,
   "metadata": {},
   "outputs": [],
   "source": [
    "top_profile_words={}\n",
    "for i,k in zip(d_group.skill_category,frequency_dict):\n",
    "    top_profile_words[i]=[p for p,s in k.items() if s>500]"
   ]
  },
  {
   "cell_type": "code",
   "execution_count": 34,
   "metadata": {},
   "outputs": [
    {
     "name": "stdout",
     "output_type": "stream",
     "text": [
      "CPU times: user 2min 12s, sys: 24 ms, total: 2min 13s\n",
      "Wall time: 2min 13s\n"
     ]
    }
   ],
   "source": [
    "%%time\n",
    "ids=[]\n",
    "skill_ranks=[]\n",
    "skills=[]\n",
    "for j,i in enumerate(data.no_stopwords_stemmed):\n",
    "    for k in top_profile_words:\n",
    "        ids.append(j)\n",
    "        skills.append(k)\n",
    "        skill_ranks.append((len(list(set([p for p in i.split() if p in top_profile_words[k]])))/len(top_profile_words[k]))*100)"
   ]
  },
  {
   "cell_type": "code",
   "execution_count": 35,
   "metadata": {},
   "outputs": [],
   "source": [
    "df=pd.concat([pd.Series(ids, name='id'),pd.Series(skills, name='skill_category'), \n",
    "              pd.Series(skill_ranks, name='skill_category_alignment')], axis=1)\n",
    "\n",
    "df['skill_category']=[i.replace('.xls','') for i in df['skill_category']]"
   ]
  },
  {
   "cell_type": "code",
   "execution_count": 36,
   "metadata": {},
   "outputs": [
    {
     "name": "stdout",
     "output_type": "stream",
     "text": [
      "CPU times: user 18.8 s, sys: 36 ms, total: 18.8 s\n",
      "Wall time: 18.8 s\n"
     ]
    }
   ],
   "source": [
    "%%time\n",
    "df_sorted=[]\n",
    "for i in range(0,len(df.id.unique())):\n",
    "    df_sorted.append(df[df.id==i].sort_values(['skill_category_alignment'], ascending=False))"
   ]
  },
  {
   "cell_type": "code",
   "execution_count": 42,
   "metadata": {},
   "outputs": [
    {
     "name": "stdout",
     "output_type": "stream",
     "text": [
      "CPU times: user 8.59 s, sys: 28 ms, total: 8.62 s\n",
      "Wall time: 8.62 s\n"
     ]
    }
   ],
   "source": [
    "%%time\n",
    "sorted_ids=[]\n",
    "sorted_skill_categories=[]\n",
    "sorted_rank=[]\n",
    "sorted_score=[]\n",
    "\n",
    "for i in df_sorted:\n",
    "    i=i.reset_index()\n",
    "    sorted_ids.append(['ID_'+str(p) for p in i.id])\n",
    "    sorted_skill_categories.append(i.skill_category)\n",
    "    sorted_rank.append(list(range(1,len(i)+1)))\n",
    "    sorted_score.append(i.skill_category_alignment)"
   ]
  },
  {
   "cell_type": "code",
   "execution_count": 43,
   "metadata": {},
   "outputs": [
    {
     "name": "stdout",
     "output_type": "stream",
     "text": [
      "CPU times: user 530 ms, sys: 24 ms, total: 554 ms\n",
      "Wall time: 553 ms\n"
     ]
    }
   ],
   "source": [
    "%%time\n",
    "df_full=pd.concat([pd.Series(list(itertools.chain.from_iterable([list(i) for i in sorted_ids])), name='ids'),\n",
    "                   pd.Series(list(itertools.chain.from_iterable([list(i) for i in sorted_skill_categories])), \n",
    "                             name='skill_category'),\n",
    "                  pd.Series(list(itertools.chain.from_iterable([list(i) for i in sorted_rank])), \n",
    "                            name='rank'),\n",
    "                  pd.Series(list(itertools.chain.from_iterable([list(i) for i in sorted_score])), \n",
    "                            name='score')], axis=1)"
   ]
  },
  {
   "cell_type": "code",
   "execution_count": 44,
   "metadata": {},
   "outputs": [
    {
     "data": {
      "text/html": [
       "<div>\n",
       "<style scoped>\n",
       "    .dataframe tbody tr th:only-of-type {\n",
       "        vertical-align: middle;\n",
       "    }\n",
       "\n",
       "    .dataframe tbody tr th {\n",
       "        vertical-align: top;\n",
       "    }\n",
       "\n",
       "    .dataframe thead th {\n",
       "        text-align: right;\n",
       "    }\n",
       "</style>\n",
       "<table border=\"1\" class=\"dataframe\">\n",
       "  <thead>\n",
       "    <tr style=\"text-align: right;\">\n",
       "      <th></th>\n",
       "      <th>ids</th>\n",
       "      <th>skill_category</th>\n",
       "      <th>rank</th>\n",
       "      <th>score</th>\n",
       "    </tr>\n",
       "  </thead>\n",
       "  <tbody>\n",
       "    <tr>\n",
       "      <th>0</th>\n",
       "      <td>ID_0</td>\n",
       "      <td>Science</td>\n",
       "      <td>1</td>\n",
       "      <td>70.000000</td>\n",
       "    </tr>\n",
       "    <tr>\n",
       "      <th>1</th>\n",
       "      <td>ID_0</td>\n",
       "      <td>Speaking</td>\n",
       "      <td>2</td>\n",
       "      <td>68.888889</td>\n",
       "    </tr>\n",
       "    <tr>\n",
       "      <th>2</th>\n",
       "      <td>ID_0</td>\n",
       "      <td>Instructing</td>\n",
       "      <td>3</td>\n",
       "      <td>68.852459</td>\n",
       "    </tr>\n",
       "    <tr>\n",
       "      <th>3</th>\n",
       "      <td>ID_0</td>\n",
       "      <td>Social_Perceptiveness</td>\n",
       "      <td>4</td>\n",
       "      <td>68.656716</td>\n",
       "    </tr>\n",
       "    <tr>\n",
       "      <th>4</th>\n",
       "      <td>ID_0</td>\n",
       "      <td>Equipment_Maintenance</td>\n",
       "      <td>5</td>\n",
       "      <td>68.627451</td>\n",
       "    </tr>\n",
       "    <tr>\n",
       "      <th>...</th>\n",
       "      <td>...</td>\n",
       "      <td>...</td>\n",
       "      <td>...</td>\n",
       "      <td>...</td>\n",
       "    </tr>\n",
       "    <tr>\n",
       "      <th>766117</th>\n",
       "      <td>ID_22532</td>\n",
       "      <td>Coordination</td>\n",
       "      <td>30</td>\n",
       "      <td>61.971831</td>\n",
       "    </tr>\n",
       "    <tr>\n",
       "      <th>766118</th>\n",
       "      <td>ID_22532</td>\n",
       "      <td>Management_of_Material_Resources</td>\n",
       "      <td>31</td>\n",
       "      <td>61.875000</td>\n",
       "    </tr>\n",
       "    <tr>\n",
       "      <th>766119</th>\n",
       "      <td>ID_22532</td>\n",
       "      <td>Time_Management</td>\n",
       "      <td>32</td>\n",
       "      <td>60.645161</td>\n",
       "    </tr>\n",
       "    <tr>\n",
       "      <th>766120</th>\n",
       "      <td>ID_22532</td>\n",
       "      <td>Service_Orientation</td>\n",
       "      <td>33</td>\n",
       "      <td>60.583942</td>\n",
       "    </tr>\n",
       "    <tr>\n",
       "      <th>766121</th>\n",
       "      <td>ID_22532</td>\n",
       "      <td>Learning_Strategies</td>\n",
       "      <td>34</td>\n",
       "      <td>60.215054</td>\n",
       "    </tr>\n",
       "  </tbody>\n",
       "</table>\n",
       "<p>766122 rows × 4 columns</p>\n",
       "</div>"
      ],
      "text/plain": [
       "             ids                    skill_category  rank      score\n",
       "0           ID_0                           Science     1  70.000000\n",
       "1           ID_0                          Speaking     2  68.888889\n",
       "2           ID_0                       Instructing     3  68.852459\n",
       "3           ID_0             Social_Perceptiveness     4  68.656716\n",
       "4           ID_0             Equipment_Maintenance     5  68.627451\n",
       "...          ...                               ...   ...        ...\n",
       "766117  ID_22532                      Coordination    30  61.971831\n",
       "766118  ID_22532  Management_of_Material_Resources    31  61.875000\n",
       "766119  ID_22532                   Time_Management    32  60.645161\n",
       "766120  ID_22532               Service_Orientation    33  60.583942\n",
       "766121  ID_22532               Learning_Strategies    34  60.215054\n",
       "\n",
       "[766122 rows x 4 columns]"
      ]
     },
     "execution_count": 44,
     "metadata": {},
     "output_type": "execute_result"
    }
   ],
   "source": [
    "df_full"
   ]
  },
  {
   "cell_type": "code",
   "execution_count": 46,
   "metadata": {},
   "outputs": [],
   "source": [
    "#df_full.to_csv('df_full.csv')"
   ]
  },
  {
   "cell_type": "code",
   "execution_count": 47,
   "metadata": {},
   "outputs": [],
   "source": [
    "df_full10000=df_full.iloc[:10000,:]\n",
    "#df_full10000.to_csv('df_full_10000.csv')"
   ]
  },
  {
   "cell_type": "code",
   "execution_count": null,
   "metadata": {},
   "outputs": [],
   "source": []
  }
 ],
 "metadata": {
  "kernelspec": {
   "display_name": "Python 3",
   "language": "python",
   "name": "python3"
  },
  "language_info": {
   "codemirror_mode": {
    "name": "ipython",
    "version": 3
   },
   "file_extension": ".py",
   "mimetype": "text/x-python",
   "name": "python",
   "nbconvert_exporter": "python",
   "pygments_lexer": "ipython3",
   "version": "3.8.2"
  }
 },
 "nbformat": 4,
 "nbformat_minor": 4
}
