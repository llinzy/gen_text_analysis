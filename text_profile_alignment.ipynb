{
 "cells": [
  {
   "cell_type": "code",
   "execution_count": 1,
   "metadata": {},
   "outputs": [],
   "source": [
    "import pandas as pd\n",
    "import itertools"
   ]
  },
  {
   "cell_type": "code",
   "execution_count": 2,
   "metadata": {},
   "outputs": [],
   "source": [
    "data=pd.read_csv('test_stripped.csv')"
   ]
  },
  {
   "cell_type": "code",
   "execution_count": 4,
   "metadata": {},
   "outputs": [],
   "source": [
    "groups=data[['skill_category', 'no_stopwords_stemmed']]"
   ]
  },
  {
   "cell_type": "code",
   "execution_count": 5,
   "metadata": {},
   "outputs": [],
   "source": [
    "d_group=groups.groupby('skill_category')['no_stopwords_stemmed'].apply(' '.join).reset_index()"
   ]
  },
  {
   "cell_type": "code",
   "execution_count": 6,
   "metadata": {},
   "outputs": [],
   "source": [
    "frequency_dict=[dict(pd.Series(i.split()).value_counts()) for i in d_group.no_stopwords_stemmed]"
   ]
  },
  {
   "cell_type": "code",
   "execution_count": 7,
   "metadata": {},
   "outputs": [],
   "source": [
    "top_profile_words={}\n",
    "for i,k in zip(d_group.skill_category,frequency_dict):\n",
    "    top_profile_words[i]=[p for p,s in k.items() if s>500]"
   ]
  },
  {
   "cell_type": "code",
   "execution_count": 8,
   "metadata": {},
   "outputs": [
    {
     "name": "stdout",
     "output_type": "stream",
     "text": [
      "CPU times: user 2min 12s, sys: 21 ms, total: 2min 12s\n",
      "Wall time: 2min 12s\n"
     ]
    }
   ],
   "source": [
    "%%time\n",
    "skill_ranks=[]\n",
    "ids=[]\n",
    "skills=[]\n",
    "for j,i in enumerate(data.no_stopwords_stemmed):\n",
    "    for k in top_profile_words:\n",
    "        ids.append(j)\n",
    "        skills.append(k)\n",
    "        skill_ranks.append(len(list(set([p for p in i.split() if p in top_profile_words[k]])))/len(k))"
   ]
  },
  {
   "cell_type": "code",
   "execution_count": 9,
   "metadata": {},
   "outputs": [],
   "source": [
    "df=pd.concat([pd.Series(ids, name='id'),pd.Series(skills, name='skill_category'), \n",
    "              pd.Series(skill_ranks, name='skill_category_alignment')], axis=1)\n",
    "\n",
    "df['skill_category']=[i.replace('.xls','') for i in df['skill_category']]"
   ]
  },
  {
   "cell_type": "code",
   "execution_count": 11,
   "metadata": {},
   "outputs": [
    {
     "name": "stdout",
     "output_type": "stream",
     "text": [
      "CPU times: user 19.4 s, sys: 44 ms, total: 19.4 s\n",
      "Wall time: 19.4 s\n"
     ]
    }
   ],
   "source": [
    "%%time\n",
    "df_sorted=[]\n",
    "for i in range(0,len(df.id.unique())):\n",
    "    df_sorted.append(df[df.id==i].sort_values(['skill_category_alignment'], ascending=False))"
   ]
  },
  {
   "cell_type": "code",
   "execution_count": 12,
   "metadata": {},
   "outputs": [
    {
     "name": "stdout",
     "output_type": "stream",
     "text": [
      "CPU times: user 8.24 s, sys: 40 ms, total: 8.28 s\n",
      "Wall time: 8.28 s\n"
     ]
    }
   ],
   "source": [
    "%%time\n",
    "sorted_ids=[]\n",
    "sorted_skill_categories=[]\n",
    "sorted_rank=[]\n",
    "for i in df_sorted:\n",
    "    i=i.reset_index()\n",
    "    sorted_ids.append(['ID_'+str(p) for p in i.id])\n",
    "    sorted_skill_categories.append(i.skill_category)\n",
    "    sorted_rank.append(list(range(1,len(i)+1)))"
   ]
  },
  {
   "cell_type": "code",
   "execution_count": 13,
   "metadata": {},
   "outputs": [
    {
     "name": "stdout",
     "output_type": "stream",
     "text": [
      "CPU times: user 378 ms, sys: 16 ms, total: 394 ms\n",
      "Wall time: 391 ms\n"
     ]
    }
   ],
   "source": [
    "%%time\n",
    "df_full=pd.concat([pd.Series(list(itertools.chain.from_iterable([list(i) for i in sorted_ids])), name='ids'),\n",
    "                   pd.Series(list(itertools.chain.from_iterable([list(i) for i in sorted_skill_categories])), \n",
    "                             name='skill_category'),\n",
    "                  pd.Series(list(itertools.chain.from_iterable([list(i) for i in sorted_rank])), \n",
    "                            name='rank')], axis=1)"
   ]
  },
  {
   "cell_type": "code",
   "execution_count": 14,
   "metadata": {},
   "outputs": [],
   "source": [
    "#df_full.to_csv('df_full.csv')"
   ]
  },
  {
   "cell_type": "code",
   "execution_count": 16,
   "metadata": {},
   "outputs": [],
   "source": [
    "df_full10000=df_full.iloc[:10000,:]\n",
    "#df_full10000.to_csv('df_full_10000.csv')"
   ]
  }
 ],
 "metadata": {
  "kernelspec": {
   "display_name": "Python 3",
   "language": "python",
   "name": "python3"
  },
  "language_info": {
   "codemirror_mode": {
    "name": "ipython",
    "version": 3
   },
   "file_extension": ".py",
   "mimetype": "text/x-python",
   "name": "python",
   "nbconvert_exporter": "python",
   "pygments_lexer": "ipython3",
   "version": "3.8.2"
  }
 },
 "nbformat": 4,
 "nbformat_minor": 4
}
